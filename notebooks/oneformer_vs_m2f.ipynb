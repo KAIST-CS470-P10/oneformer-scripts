{
 "cells": [
  {
   "cell_type": "code",
   "execution_count": 27,
   "metadata": {},
   "outputs": [],
   "source": [
    "from pathlib import Path\n",
    "\n",
    "import matplotlib.pyplot as plt\n",
    "import numpy as np\n",
    "import gzip\n",
    "import torch"
   ]
  },
  {
   "cell_type": "code",
   "execution_count": 28,
   "metadata": {},
   "outputs": [],
   "source": [
    "m2f_data_dir = Path(\"../data/m2f_outputs\").resolve()\n",
    "assert m2f_data_dir.exists()"
   ]
  },
  {
   "cell_type": "code",
   "execution_count": 29,
   "metadata": {},
   "outputs": [],
   "source": [
    "m2f_data_path = m2f_data_dir / \"1.ptz\"\n",
    "assert m2f_data_path.exists()"
   ]
  },
  {
   "cell_type": "code",
   "execution_count": 30,
   "metadata": {},
   "outputs": [
    {
     "name": "stdout",
     "output_type": "stream",
     "text": [
      "dict_keys(['mask', 'segments', 'mask_notta', 'segments_notta', 'confidences_notta', 'probabilities', 'confidences'])\n"
     ]
    }
   ],
   "source": [
    "with gzip.open(m2f_data_path, \"r\") as f:\n",
    "    m2f_data = torch.load(f)\n",
    "print(m2f_data.keys())"
   ]
  },
  {
   "cell_type": "code",
   "execution_count": 31,
   "metadata": {},
   "outputs": [
    {
     "name": "stdout",
     "output_type": "stream",
     "text": [
      "torch.Size([968, 1296])\n"
     ]
    }
   ],
   "source": [
    "print(m2f_data[\"mask\"].shape)"
   ]
  },
  {
   "cell_type": "code",
   "execution_count": 32,
   "metadata": {},
   "outputs": [
    {
     "name": "stdout",
     "output_type": "stream",
     "text": [
      "torch.Size([968, 1296, 22])\n"
     ]
    }
   ],
   "source": [
    "print(m2f_data[\"probabilities\"].shape)"
   ]
  },
  {
   "cell_type": "code",
   "execution_count": 33,
   "metadata": {},
   "outputs": [
    {
     "name": "stdout",
     "output_type": "stream",
     "text": [
      "torch.Size([968, 1296])\n"
     ]
    }
   ],
   "source": [
    "print(m2f_data[\"confidences\"].shape)"
   ]
  },
  {
   "cell_type": "code",
   "execution_count": 41,
   "metadata": {},
   "outputs": [
    {
     "name": "stdout",
     "output_type": "stream",
     "text": [
      "[0.0000000e+00 2.2890186e-05 6.9560814e-03 8.4416706e-06 7.8068866e-04\n",
      " 8.2134938e-01 1.3997340e-01 9.5218857e-04 6.6118369e-06 9.6104122e-07\n",
      " 2.6881692e-06 1.7714085e-05 1.1303590e-05 9.7415023e-07 1.1981851e-06\n",
      " 7.2890598e-06 5.7058461e-04 3.7254987e-04 3.7841908e-06 5.9514146e-05\n",
      " 2.4737834e-04 2.8654464e-02]\n",
      "[0.0000000e+00 2.2890186e-05 6.9560814e-03 8.4416706e-06 7.8068866e-04\n",
      " 8.2134938e-01 1.3997340e-01 9.5218857e-04 6.6118369e-06 9.6104122e-07\n",
      " 2.6881692e-06 1.7714085e-05 1.1303590e-05 9.7415023e-07 1.1981851e-06\n",
      " 7.2890598e-06 5.7058461e-04 3.7254987e-04 3.7841908e-06 5.9514146e-05\n",
      " 2.4737834e-04 2.8654464e-02]\n",
      "[0.0000000e+00 2.2890186e-05 6.9560814e-03 8.4416706e-06 7.8068866e-04\n",
      " 8.2134938e-01 1.3997340e-01 9.5218857e-04 6.6118369e-06 9.6104122e-07\n",
      " 2.6881692e-06 1.7714085e-05 1.1303590e-05 9.7415023e-07 1.1981851e-06\n",
      " 7.2890598e-06 5.7058461e-04 3.7254987e-04 3.7841908e-06 5.9514146e-05\n",
      " 2.4737834e-04 2.8654464e-02]\n",
      "[0.0000000e+00 2.2890186e-05 6.9560814e-03 8.4416706e-06 7.8068866e-04\n",
      " 8.2134938e-01 1.3997340e-01 9.5218857e-04 6.6118369e-06 9.6104122e-07\n",
      " 2.6881692e-06 1.7714085e-05 1.1303590e-05 9.7415023e-07 1.1981851e-06\n",
      " 7.2890598e-06 5.7058461e-04 3.7254987e-04 3.7841908e-06 5.9514146e-05\n",
      " 2.4737834e-04 2.8654464e-02]\n",
      "[0.0000000e+00 2.2890186e-05 6.9560814e-03 8.4416706e-06 7.8068866e-04\n",
      " 8.2134938e-01 1.3997340e-01 9.5218857e-04 6.6118369e-06 9.6104122e-07\n",
      " 2.6881692e-06 1.7714085e-05 1.1303590e-05 9.7415023e-07 1.1981851e-06\n",
      " 7.2890598e-06 5.7058461e-04 3.7254987e-04 3.7841908e-06 5.9514146e-05\n",
      " 2.4737834e-04 2.8654464e-02]\n",
      "[0.0000000e+00 2.2890186e-05 6.9560814e-03 8.4416706e-06 7.8068866e-04\n",
      " 8.2134938e-01 1.3997340e-01 9.5218857e-04 6.6118369e-06 9.6104122e-07\n",
      " 2.6881692e-06 1.7714085e-05 1.1303590e-05 9.7415023e-07 1.1981851e-06\n",
      " 7.2890598e-06 5.7058461e-04 3.7254987e-04 3.7841908e-06 5.9514146e-05\n",
      " 2.4737834e-04 2.8654464e-02]\n",
      "[0.0000000e+00 2.2890186e-05 6.9560814e-03 8.4416706e-06 7.8068866e-04\n",
      " 8.2134938e-01 1.3997340e-01 9.5218857e-04 6.6118369e-06 9.6104122e-07\n",
      " 2.6881692e-06 1.7714085e-05 1.1303590e-05 9.7415023e-07 1.1981851e-06\n",
      " 7.2890598e-06 5.7058461e-04 3.7254987e-04 3.7841908e-06 5.9514146e-05\n",
      " 2.4737834e-04 2.8654464e-02]\n",
      "[0.0000000e+00 2.2890186e-05 6.9560814e-03 8.4416706e-06 7.8068866e-04\n",
      " 8.2134938e-01 1.3997340e-01 9.5218857e-04 6.6118369e-06 9.6104122e-07\n",
      " 2.6881692e-06 1.7714085e-05 1.1303590e-05 9.7415023e-07 1.1981851e-06\n",
      " 7.2890598e-06 5.7058461e-04 3.7254987e-04 3.7841908e-06 5.9514146e-05\n",
      " 2.4737834e-04 2.8654464e-02]\n",
      "[0.0000000e+00 2.2890186e-05 6.9560814e-03 8.4416706e-06 7.8068866e-04\n",
      " 8.2134938e-01 1.3997340e-01 9.5218857e-04 6.6118369e-06 9.6104122e-07\n",
      " 2.6881692e-06 1.7714085e-05 1.1303590e-05 9.7415023e-07 1.1981851e-06\n",
      " 7.2890598e-06 5.7058461e-04 3.7254987e-04 3.7841908e-06 5.9514146e-05\n",
      " 2.4737834e-04 2.8654464e-02]\n",
      "[0.0000000e+00 2.2890186e-05 6.9560814e-03 8.4416706e-06 7.8068866e-04\n",
      " 8.2134938e-01 1.3997340e-01 9.5218857e-04 6.6118369e-06 9.6104122e-07\n",
      " 2.6881692e-06 1.7714085e-05 1.1303590e-05 9.7415023e-07 1.1981851e-06\n",
      " 7.2890598e-06 5.7058461e-04 3.7254987e-04 3.7841908e-06 5.9514146e-05\n",
      " 2.4737834e-04 2.8654464e-02]\n"
     ]
    },
    {
     "data": {
      "text/plain": [
       "(array([[4569.,    0.,    0.,    0.,    0.,    0.,    0.,    0.,    0.,\n",
       "            0.],\n",
       "        [4569.,    0.,    0.,    0.,    0.,    0.,    0.,    0.,    0.,\n",
       "            0.],\n",
       "        [4569.,    0.,    0.,    0.,    0.,    0.,    0.,    0.,    0.,\n",
       "            0.],\n",
       "        [4569.,    0.,    0.,    0.,    0.,    0.,    0.,    0.,    0.,\n",
       "            0.],\n",
       "        [4569.,    0.,    0.,    0.,    0.,    0.,    0.,    0.,    0.,\n",
       "            0.],\n",
       "        [   0.,    0.,    0.,    0.,    0.,    0.,    0.,    0.,    0.,\n",
       "         4569.],\n",
       "        [   0., 4569.,    0.,    0.,    0.,    0.,    0.,    0.,    0.,\n",
       "            0.],\n",
       "        [4569.,    0.,    0.,    0.,    0.,    0.,    0.,    0.,    0.,\n",
       "            0.],\n",
       "        [4569.,    0.,    0.,    0.,    0.,    0.,    0.,    0.,    0.,\n",
       "            0.],\n",
       "        [4569.,    0.,    0.,    0.,    0.,    0.,    0.,    0.,    0.,\n",
       "            0.],\n",
       "        [4569.,    0.,    0.,    0.,    0.,    0.,    0.,    0.,    0.,\n",
       "            0.],\n",
       "        [4569.,    0.,    0.,    0.,    0.,    0.,    0.,    0.,    0.,\n",
       "            0.],\n",
       "        [4569.,    0.,    0.,    0.,    0.,    0.,    0.,    0.,    0.,\n",
       "            0.],\n",
       "        [4569.,    0.,    0.,    0.,    0.,    0.,    0.,    0.,    0.,\n",
       "            0.],\n",
       "        [4569.,    0.,    0.,    0.,    0.,    0.,    0.,    0.,    0.,\n",
       "            0.],\n",
       "        [4569.,    0.,    0.,    0.,    0.,    0.,    0.,    0.,    0.,\n",
       "            0.],\n",
       "        [4569.,    0.,    0.,    0.,    0.,    0.,    0.,    0.,    0.,\n",
       "            0.],\n",
       "        [4569.,    0.,    0.,    0.,    0.,    0.,    0.,    0.,    0.,\n",
       "            0.],\n",
       "        [4569.,    0.,    0.,    0.,    0.,    0.,    0.,    0.,    0.,\n",
       "            0.],\n",
       "        [4569.,    0.,    0.,    0.,    0.,    0.,    0.,    0.,    0.,\n",
       "            0.],\n",
       "        [4569.,    0.,    0.,    0.,    0.,    0.,    0.,    0.,    0.,\n",
       "            0.],\n",
       "        [4569.,    0.,    0.,    0.,    0.,    0.,    0.,    0.,    0.,\n",
       "            0.]]),\n",
       " array([0.        , 0.08213494, 0.16426988, 0.24640481, 0.32853976,\n",
       "        0.41067469, 0.49280962, 0.57494456, 0.65707952, 0.73921442,\n",
       "        0.82134938]),\n",
       " <a list of 22 BarContainer objects>)"
      ]
     },
     "execution_count": 41,
     "metadata": {},
     "output_type": "execute_result"
    },
    {
     "data": {
      "image/png": "[encoded data removed]",
      "text/plain": [
       "<Figure size 640x480 with 1 Axes>"
      ]
     },
     "metadata": {},
     "output_type": "display_data"
    }
   ],
   "source": [
    "mask_0 = m2f_data[\"mask\"] == 3  # mask of the 0th instance\n",
    "probs_mask_0 = m2f_data[\"probabilities\"][mask_0]\n",
    "probs_mask_0 = probs_mask_0.cpu().numpy()\n",
    "for i in range(10):\n",
    "    print(probs_mask_0[i])\n",
    "plt.hist(probs_mask_0, bins=10)"
   ]
  },
  {
   "cell_type": "code",
   "execution_count": 35,
   "metadata": {},
   "outputs": [
    {
     "data": {
      "text/plain": [
       "(array([26224617.,   120471.,        0.,        0.,        0.,        0.,\n",
       "               0.,        0.,   125579.,  1128949.]),\n",
       " array([0.        , 0.1       , 0.2       , 0.30000001, 0.40000001,\n",
       "        0.5       , 0.60000002, 0.69999999, 0.80000001, 0.89999998,\n",
       "        1.        ]),\n",
       " <BarContainer object of 10 artists>)"
      ]
     },
     "execution_count": 35,
     "metadata": {},
     "output_type": "execute_result"
    },
    {
     "data": {
      "image/png": "[encoded data removed]",
      "text/plain": [
       "<Figure size 640x480 with 1 Axes>"
      ]
     },
     "metadata": {},
     "output_type": "display_data"
    }
   ],
   "source": [
    "probability_np = m2f_data[\"probabilities\"].cpu().numpy()\n",
    "\n",
    "# print(np.unique(probability_np), len(np.unique(probability_np)))\n",
    "plt.hist(probability_np.flatten(), bins=10)"
   ]
  },
  {
   "cell_type": "code",
   "execution_count": null,
   "metadata": {},
   "outputs": [],
   "source": []
  }
 ],
 "metadata": {
  "kernelspec": {
   "display_name": "oneformer",
   "language": "python",
   "name": "python3"
  },
  "language_info": {
   "codemirror_mode": {
    "name": "ipython",
    "version": 3
   },
   "file_extension": ".py",
   "mimetype": "text/x-python",
   "name": "python",
   "nbconvert_exporter": "python",
   "pygments_lexer": "ipython3",
   "version": "3.8.16"
  },
  "orig_nbformat": 4
 },
 "nbformat": 4,
 "nbformat_minor": 2
}
