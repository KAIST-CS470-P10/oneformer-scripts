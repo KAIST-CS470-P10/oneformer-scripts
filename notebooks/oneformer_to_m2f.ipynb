{
 "cells": [
  {
   "cell_type": "code",
   "execution_count": 2,
   "metadata": {},
   "outputs": [
    {
     "name": "stderr",
     "output_type": "stream",
     "text": [
      "/home/peter8780/miniconda3/envs/oneformer/lib/python3.8/site-packages/tqdm/auto.py:21: TqdmWarning: IProgress not found. Please update jupyter and ipywidgets. See https://ipywidgets.readthedocs.io/en/stable/user_install.html\n",
      "  from .autonotebook import tqdm as notebook_tqdm\n"
     ]
    }
   ],
   "source": [
    "from pathlib import Path\n",
    "\n",
    "import matplotlib.pyplot as plt\n",
    "import numpy as np\n",
    "import gzip\n",
    "import torch"
   ]
  },
  {
   "cell_type": "code",
   "execution_count": 3,
   "metadata": {},
   "outputs": [],
   "source": [
    "m2f_data_dir = Path(\"../data/m2f_outputs\").resolve()\n",
    "assert m2f_data_dir.exists()\n",
    "\n",
    "onef_data_dir = Path(\"../data/onef_outputs\").resolve()\n",
    "assert onef_data_dir.exists()"
   ]
  },
  {
   "cell_type": "code",
   "execution_count": 4,
   "metadata": {},
   "outputs": [],
   "source": [
    "m2f_data_path = m2f_data_dir / \"1.ptz\"\n",
    "assert m2f_data_path.exists()\n",
    "\n",
    "onef_data_path = onef_data_dir / \"oneformer.ptz\"\n",
    "assert onef_data_path.exists()"
   ]
  },
  {
   "cell_type": "code",
   "execution_count": 5,
   "metadata": {},
   "outputs": [
    {
     "name": "stdout",
     "output_type": "stream",
     "text": [
      "dict_keys(['mask', 'segments', 'mask_notta', 'segments_notta', 'confidences_notta', 'probabilities', 'confidences'])\n"
     ]
    }
   ],
   "source": [
    "with gzip.open(m2f_data_path, \"r\") as f:\n",
    "    m2f_data = torch.load(f)\n",
    "print(m2f_data.keys())\n",
    "\n",
    "with gzip.open(onef_data_path, \"r\") as f:\n",
    "    onef_data = torch.load(f)\n",
    "[onef_data] = onef_data"
   ]
  },
  {
   "cell_type": "code",
   "execution_count": 6,
   "metadata": {},
   "outputs": [
    {
     "name": "stdout",
     "output_type": "stream",
     "text": [
      "tensor([[0, 0, 0,  ..., 7, 7, 7],\n",
      "        [0, 0, 0,  ..., 7, 7, 7],\n",
      "        [0, 0, 0,  ..., 7, 7, 7],\n",
      "        ...,\n",
      "        [6, 6, 6,  ..., 6, 6, 6],\n",
      "        [6, 6, 6,  ..., 6, 6, 6],\n",
      "        [6, 6, 6,  ..., 6, 6, 6]], device='cuda:0', dtype=torch.int32)\n",
      "tensor([[2, 2, 2,  ..., 2, 2, 2],\n",
      "        [2, 2, 2,  ..., 2, 2, 2],\n",
      "        [2, 2, 2,  ..., 2, 2, 2],\n",
      "        ...,\n",
      "        [5, 5, 5,  ..., 3, 3, 3],\n",
      "        [5, 5, 5,  ..., 3, 3, 3],\n",
      "        [5, 5, 5,  ..., 3, 3, 3]], dtype=torch.int32)\n"
     ]
    }
   ],
   "source": [
    "# mask\n",
    "print(m2f_data[\"mask\"])\n",
    "print(onef_data[\"segmentation\"])\n",
    "converted_mask = onef_data[\"segmentation\"].to(\"cuda\")\n",
    "# print(converted_mask)"
   ]
  },
  {
   "cell_type": "code",
   "execution_count": 7,
   "metadata": {},
   "outputs": [
    {
     "name": "stdout",
     "output_type": "stream",
     "text": [
      "[{'id': 1, 'isthing': False, 'category_id': 21, 'score': 0.9976209402084351}, {'id': 2, 'isthing': False, 'category_id': 7, 'score': 0.9981362223625183}, {'id': 3, 'isthing': True, 'category_id': 5, 'score': 0.9849984645843506}, {'id': 4, 'isthing': True, 'category_id': 5, 'score': 0.8396998047828674}, {'id': 5, 'isthing': False, 'category_id': 19, 'score': 0.9967018961906433}, {'id': 6, 'isthing': False, 'category_id': 2, 'score': 0.9982190132141113}, {'id': 7, 'isthing': False, 'category_id': 1, 'score': 0.9987754225730896}, {'id': 8, 'isthing': True, 'category_id': 5, 'score': 0.9743933081626892}, {'id': 9, 'isthing': True, 'category_id': 16, 'score': 0.9995818734169006}, {'id': 10, 'isthing': True, 'category_id': 20, 'score': 0.9905605912208557}]\n",
      "[{'id': 1, 'label_id': 110, 'was_fused': False, 'score': 0.963935}, {'id': 2, 'label_id': 119, 'was_fused': False, 'score': 0.999676}, {'id': 3, 'label_id': 100, 'was_fused': False, 'score': 0.969604}, {'id': 4, 'label_id': 116, 'was_fused': False, 'score': 0.988628}, {'id': 5, 'label_id': 125, 'was_fused': False, 'score': 0.998139}, {'id': 6, 'label_id': 91, 'was_fused': False, 'score': 0.98989}]\n"
     ]
    }
   ],
   "source": [
    "# segments\n",
    "# \"isthhing\" is not \"was_fused\", so panoptic lift should not use it.\n",
    "print(m2f_data[\"segments\"])\n",
    "print(onef_data[\"segments_info\"])\n",
    "\n",
    "converted_segments = []\n",
    "for d in onef_data[\"segments_info\"]:\n",
    "    new_dict = {'id': d['id'], 'isthing': d['was_fused'], 'category_id': d['label_id'], 'score': d['score']}\n",
    "    converted_segments.append(new_dict)\n",
    "# print(converted_segments)\n",
    "\n"
   ]
  },
  {
   "cell_type": "code",
   "execution_count": 23,
   "metadata": {},
   "outputs": [
    {
     "name": "stdout",
     "output_type": "stream",
     "text": [
      "torch.Size([968, 1296, 22])\n",
      "torch.Size([512, 683, 134])\n"
     ]
    }
   ],
   "source": [
    "# probabilities\n",
    "print(m2f_data[\"probabilities\"].shape)\n",
    "print(onef_data[\"probability_map\"].shape)\n",
    "converted_probabilites = onef_data[\"probability_map\"].to(\"cuda\")\n",
    "# print(converted_probabilites)\n"
   ]
  },
  {
   "cell_type": "code",
   "execution_count": 29,
   "metadata": {},
   "outputs": [
    {
     "name": "stdout",
     "output_type": "stream",
     "text": [
      "tensor([[1.0000, 1.0000, 1.0000,  ..., 0.9508, 0.8944, 0.5970],\n",
      "        [1.0000, 1.0000, 1.0000,  ..., 0.9508, 0.8944, 0.5970],\n",
      "        [1.0000, 1.0000, 1.0000,  ..., 0.9565, 0.9069, 0.6288],\n",
      "        ...,\n",
      "        [0.9901, 0.9901, 0.9910,  ..., 0.9669, 0.9354, 0.7445],\n",
      "        [0.9890, 0.9890, 0.9900,  ..., 0.9615, 0.9252, 0.7186],\n",
      "        [0.9890, 0.9890, 0.9900,  ..., 0.9615, 0.9252, 0.7186]],\n",
      "       device='cuda:0')\n",
      "max_prob\n",
      "tensor([[1.0000, 1.0000, 1.0000,  ..., 0.9988, 0.9988, 0.9988],\n",
      "        [1.0000, 1.0000, 1.0000,  ..., 0.9988, 0.9988, 0.9988],\n",
      "        [1.0000, 1.0000, 1.0000,  ..., 0.9988, 0.9988, 0.9988],\n",
      "        ...,\n",
      "        [0.9982, 0.9982, 0.9982,  ..., 0.9982, 0.9982, 0.9982],\n",
      "        [0.9982, 0.9982, 0.9982,  ..., 0.9982, 0.9982, 0.9982],\n",
      "        [0.9982, 0.9982, 0.9982,  ..., 0.9982, 0.9982, 0.9982]],\n",
      "       device='cuda:0')\n",
      "origin\n",
      "tensor([[1.0000, 1.0000, 1.0000,  ..., 0.9436, 0.8813, 0.5912],\n",
      "        [1.0000, 1.0000, 1.0000,  ..., 0.9436, 0.8813, 0.5912],\n",
      "        [1.0000, 1.0000, 1.0000,  ..., 0.9508, 0.8967, 0.6245],\n",
      "        ...,\n",
      "        [0.9707, 0.9786, 0.9813,  ..., 0.9815, 0.9654, 0.8565],\n",
      "        [0.9671, 0.9764, 0.9797,  ..., 0.9788, 0.9603, 0.8407],\n",
      "        [0.9671, 0.9764, 0.9797,  ..., 0.9788, 0.9603, 0.8407]],\n",
      "       device='cuda:0')\n",
      "dict_keys(['segmentation', 'segments_info', 'probability_map'])\n"
     ]
    }
   ],
   "source": [
    "# 3. Max Probability: maximum probability over all classes\n",
    "binary_mask = m2f_data[\"mask\"]==7\n",
    "print(m2f_data[\"confidences_notta\"])\n",
    "max_prob = torch.amax(m2f_data[\"probabilities\"], dim=-1)\n",
    "print(\"max_prob\")\n",
    "print(max_prob)\n",
    "\n",
    "\n",
    "print(\"origin\")\n",
    "print(m2f_data[\"confidences\"])\n",
    "print(onef_data.keys())"
   ]
  },
  {
   "cell_type": "code",
   "execution_count": 10,
   "metadata": {},
   "outputs": [],
   "source": [
    "converted_onef_data = {key:None for key in m2f_data.keys()}\n",
    "converted_onef_data[\"mask\"] = converted_mask\n",
    "converted_onef_data[\"segments\"] = converted_segments\n",
    "converted_onef_data[\"probabilities\"] = converted_probabilites"
   ]
  }
 ],
 "metadata": {
  "kernelspec": {
   "display_name": "oneformer",
   "language": "python",
   "name": "python3"
  },
  "language_info": {
   "codemirror_mode": {
    "name": "ipython",
    "version": 3
   },
   "file_extension": ".py",
   "mimetype": "text/x-python",
   "name": "python",
   "nbconvert_exporter": "python",
   "pygments_lexer": "ipython3",
   "version": "3.8.16"
  },
  "orig_nbformat": 4
 },
 "nbformat": 4,
 "nbformat_minor": 2
}
